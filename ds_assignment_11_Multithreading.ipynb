{
 "cells": [
  {
   "cell_type": "markdown",
   "id": "9b739e5c-4341-4343-a473-7819132541b5",
   "metadata": {},
   "source": [
    "1). what is multithreading in python? why is it used? Name the module used to handle threads in python"
   ]
  },
  {
   "cell_type": "code",
   "execution_count": 1,
   "id": "7bc2f069-cd19-4de9-85da-45e371021208",
   "metadata": {},
   "outputs": [
    {
     "name": "stdout",
     "output_type": "stream",
     "text": [
      "Thread 1: 0\n",
      "Thread 2: A\n",
      "Thread 2: B\n",
      "Thread 1: 1\n",
      "Thread 1: 2Thread 2: C\n",
      "\n",
      "Thread 2: D\n",
      "Thread 1: 3\n",
      "Thread 1: 4Thread 2: E\n",
      "\n"
     ]
    }
   ],
   "source": [
    "import threading\n",
    "import time\n",
    "\n",
    "def print_numbers():\n",
    "    for i in range(5):\n",
    "        time.sleep(1)\n",
    "        print(f\"Thread 1: {i}\")\n",
    "\n",
    "def print_letters():\n",
    "    for letter in 'ABCDE':\n",
    "        time.sleep(1)\n",
    "        print(f\"Thread 2: {letter}\")\n",
    "\n",
    "# Create two threads\n",
    "thread1 = threading.Thread(target=print_numbers)\n",
    "thread2 = threading.Thread(target=print_letters)\n",
    "\n",
    "# Start the threads\n",
    "thread1.start()\n",
    "thread2.start()\n",
    "\n",
    "# Wait for both threads to finish\n",
    "thread1.join()\n",
    "thread2.join()\n"
   ]
  },
  {
   "cell_type": "markdown",
   "id": "bc1423ca-b671-4ac4-8915-6fdd3f584d85",
   "metadata": {},
   "source": [
    "Multithreading in Python refers to the concurrent execution of multiple threads within a single process. A thread is the smallest unit of execution within a process, and multithreading allows different threads to execute tasks concurrently, taking advantage of multiple CPU cores. Python provides the threading module to work with threads.\r\n",
    "\r\n",
    "Why Multithreading is Used:\r\n",
    "Parallelism:\r\n",
    "\r\n",
    "Multithreading allows for parallelism, where multiple threads can execute tasks simultaneously. This is beneficial for applications that need to perform multiple tasks concurrently, improving overall performance.\r\n",
    "Responsiveness:\r\n",
    "\r\n",
    "Multithreading is often used in graphical user interfaces (GUIs) to keep the user interface responsive while background tasks are running. This prevents the UI from freezing during time-consuming operations.\r\n",
    "Efficient Resource Utilization:\r\n",
    "\r\n",
    "In CPU-bound tasks, multithreading can be used to utilize multiple CPU cores efficiently. Each thread can perform a portion of the computation concurrently, potentially speeding up the overall execution.\r\n",
    "Concurrency:\r\n",
    "\r\n",
    "Multithreading is useful in I/O-bound tasks where threads can be waiting for external resources (e.g., reading from a file, making network requests). During these waiting periods, other threads can continue to execute, improving overall program efficiency.\r\n",
    "Python Module for Handling Threads:\r\n",
    "The threading module is used to handle threads in Python. It provides a high-level interface for creating and managing threads. Some key components of the threading module include:\r\n",
    "\r\n",
    "Thread class: This class is used to create and manage threads. You can subclass it and override its run method to define the code that will be executed in the thread.\r\n",
    "\r\n",
    "Locks and Semaphores: These are synchronization primitives provided by the threading module to manage access to shared resources and prevent race conditions.\r\n",
    "\r\n",
    "Thread Safety: The threading module provides tools for writing thread-safe code, including locks, conditions, and events."
   ]
  },
  {
   "cell_type": "markdown",
   "id": "b7f9a1fc-d839-4e2d-9136-0848cbe68425",
   "metadata": {},
   "source": [
    "2). why threading module used? write the use of the following functions\r\n",
    "( activeCount\r\n",
    " currentThread\r\n",
    " enumerate)"
   ]
  },
  {
   "cell_type": "markdown",
   "id": "9103ba02-8b8f-4814-9317-1b535c9f7cf5",
   "metadata": {},
   "source": [
    "The threading module in Python is used for creating and managing threads. It provides a higher-level, object-oriented interface for working with threads compared to the lower-level thread module. The threading module allows you to create, start, and manage threads, as well as provides synchronization mechanisms for handling shared resources among threads.\r\n",
    "\r\n",
    "Now, let's discuss the specific functions you mentioned:1:\r\n",
    "\r\n",
    "activeCount() Function:\r\n",
    "\r\n",
    "The activeCount() function is used to get the current number of Thread objects that are active (i.e., not yet terminated) in the program. It returns the number of Thread objects that are currently \n",
    "\n",
    "2:currentThread() Function:\r\n",
    "\r\n",
    "The currentThread() function returns the current Thread object corresponding to the caller's thread of control. It can be used to obtain information about the currently executing threa\n",
    "\n",
    "3:enumerate() Function:\r\n",
    "\r\n",
    "The enumerate() function returns a list of all Thread objects currently alive. It is a convenient way to get a list of all active threadsd.alive."
   ]
  },
  {
   "cell_type": "code",
   "execution_count": 4,
   "id": "4c04164e-b35e-4004-ba3e-cc8ea6967443",
   "metadata": {
    "scrolled": true
   },
   "outputs": [
    {
     "name": "stdout",
     "output_type": "stream",
     "text": [
      "Active Threads: 6\n"
     ]
    },
    {
     "name": "stderr",
     "output_type": "stream",
     "text": [
      "C:\\Users\\Lenovo\\AppData\\Local\\Temp\\ipykernel_3152\\3601582401.py:4: DeprecationWarning: activeCount() is deprecated, use active_count() instead\n",
      "  print(f\"Active Threads: {threading.activeCount()}\")\n"
     ]
    }
   ],
   "source": [
    "import threading\n",
    "\n",
    "# Example\n",
    "print(f\"Active Threads: {threading.activeCount()}\")\n"
   ]
  },
  {
   "cell_type": "code",
   "execution_count": 3,
   "id": "ae449f77-6764-490d-8582-142d5776c639",
   "metadata": {
    "scrolled": true
   },
   "outputs": [
    {
     "name": "stdout",
     "output_type": "stream",
     "text": [
      "Current Thread Name: MainThread\n"
     ]
    },
    {
     "name": "stderr",
     "output_type": "stream",
     "text": [
      "C:\\Users\\Lenovo\\AppData\\Local\\Temp\\ipykernel_3152\\4141870286.py:4: DeprecationWarning: currentThread() is deprecated, use current_thread() instead\n",
      "  current_thread = threading.currentThread()\n"
     ]
    }
   ],
   "source": [
    "import threading\n",
    "\n",
    "# Example\n",
    "current_thread = threading.currentThread()\n",
    "print(f\"Current Thread Name: {current_thread.name}\")\n"
   ]
  },
  {
   "cell_type": "code",
   "execution_count": 4,
   "id": "e818b0ca-46ba-4f56-9f87-122faa0f4739",
   "metadata": {},
   "outputs": [
    {
     "name": "stdout",
     "output_type": "stream",
     "text": [
      "All Threads:\n",
      "Thread Name: MainThread\n",
      "Thread Name: IOPub\n",
      "Thread Name: Heartbeat\n",
      "Thread Name: Control\n",
      "Thread Name: IPythonHistorySavingThread\n",
      "Thread Name: Thread-4\n"
     ]
    }
   ],
   "source": [
    "import threading\n",
    "\n",
    "# Example\n",
    "all_threads = threading.enumerate()\n",
    "print(\"All Threads:\")\n",
    "for thread in all_threads:\n",
    "    print(f\"Thread Name: {thread.name}\")\n"
   ]
  },
  {
   "cell_type": "markdown",
   "id": "47aaecdc-212b-4aed-a6b8-7acd4a04b1b9",
   "metadata": {},
   "source": [
    "3. Explain the following functions\r\n",
    "( run\r\n",
    " start\r\n",
    " jo\r\n",
    "' isAlive)"
   ]
  },
  {
   "cell_type": "markdown",
   "id": "2ac1cbe1-077f-49e7-ad18-8e659dd8f455",
   "metadata": {},
   "source": [
    "1.run() Method:\r\n",
    "\r\n",
    "The run() method is a method that you can override in a custom thread class to define the code that will be executed when the thread is started. This method encapsulates the behavior of the thre\n",
    "\n",
    "2.start() Method:\r\n",
    "\r\n",
    "The start() method is used to initiate the execution of a thread. When this method is called, a new thread is created, and the run() method of the thread is invoked in that new threa\n",
    "\n",
    "3.join() Method:\r\n",
    "\r\n",
    "The join() method is used to wait for a thread to complete its execution. When join() is called on a thread, the program waits until that thread finishes before continuing with the execution.d.ad"
   ]
  },
  {
   "cell_type": "code",
   "execution_count": 5,
   "id": "cedb59c7-bb08-48f1-83a3-4b092dcb8904",
   "metadata": {},
   "outputs": [
    {
     "name": "stdout",
     "output_type": "stream",
     "text": [
      "Thread is running.\n"
     ]
    }
   ],
   "source": [
    "# 1]\n",
    "import threading\n",
    "\n",
    "class MyThread(threading.Thread):\n",
    "    def run(self):\n",
    "        # Code to be executed when the thread is started\n",
    "        print(\"Thread is running.\")\n",
    "\n",
    "# Creating and running an instance of the custom thread\n",
    "my_thread = MyThread()\n",
    "my_thread.run()\n"
   ]
  },
  {
   "cell_type": "code",
   "execution_count": 6,
   "id": "036e2528-ef01-4d40-9725-60dc80ff4da0",
   "metadata": {},
   "outputs": [
    {
     "name": "stdout",
     "output_type": "stream",
     "text": [
      "Thread is running.\n"
     ]
    }
   ],
   "source": [
    "#2]\n",
    "import threading\n",
    "\n",
    "class MyThread(threading.Thread):\n",
    "    def run(self):\n",
    "        print(\"Thread is running.\")\n",
    "\n",
    "# Creating and starting an instance of the custom thread\n",
    "my_thread = MyThread()\n",
    "my_thread.start()\n"
   ]
  },
  {
   "cell_type": "code",
   "execution_count": 7,
   "id": "29077bc6-17db-4464-8dc2-18276680dab8",
   "metadata": {},
   "outputs": [
    {
     "name": "stdout",
     "output_type": "stream",
     "text": [
      "Thread is running.\n"
     ]
    }
   ],
   "source": [
    "# 3]\n",
    "import threading\n",
    "\n",
    "class MyThread(threading.Thread):\n",
    "    def run(self):\n",
    "        print(\"Thread is running.\")\n",
    "\n",
    "# Creating and starting an instance of the custom thread\n",
    "my_thread = MyThread()\n",
    "my_thread.start()\n",
    "\n",
    "# Wait for the thread to finish before proceeding\n",
    "my_thread.join()"
   ]
  },
  {
   "cell_type": "markdown",
   "id": "fa37e3d2-6a94-46bd-b20f-09859e24b64e",
   "metadata": {},
   "source": [
    "4. rite a python program to create two threads. Thread one must print the list of squares and thread\r\n",
    "two must print the list of cubes"
   ]
  },
  {
   "cell_type": "code",
   "execution_count": 15,
   "id": "30ffa5ec-0546-4518-88e0-4160667651aa",
   "metadata": {},
   "outputs": [
    {
     "name": "stdout",
     "output_type": "stream",
     "text": [
      "list of squres: [1, 4, 9, 16, 25, 36, 49, 64, 81, 100]\n",
      "list of cubes: [1, 8, 27, 64, 125, 216, 343, 512, 729, 1000]\n"
     ]
    }
   ],
   "source": [
    "import threading\n",
    "import time\n",
    "def squre(n):\n",
    "    print(\"list of squres:\",[i**2 for i in n])\n",
    "    time.sleep(1)\n",
    "def cube(n):\n",
    "    print(\"list of cubes:\",[i**3 for i in n])\n",
    "    time.sleep(1)\n",
    "num=list(range(1,11))\n",
    "thread=threading.Thread(target=squre,args=(num,))\n",
    "thread1=threading.Thread(target=cube,args=(num,))\n",
    "\n",
    "thread.start()\n",
    "thread1.start()\n",
    "# thread.join()\n",
    "# thread1.join()"
   ]
  },
  {
   "cell_type": "markdown",
   "id": "92f672a5-b763-48a4-9319-bea5f293a5a6",
   "metadata": {},
   "source": [
    "5. State advantages and disadvantages of multithreading"
   ]
  },
  {
   "cell_type": "markdown",
   "id": "166fca50-0fcf-4afe-8680-fccdf404144e",
   "metadata": {},
   "source": [
    "Multithreading is a programming technique that involves the execution of multiple threads within a single process. It has both advantages and disadvantages, and its suitability depends on the specific requirements and characteristics of the application. Here are some advantages and disadvantages of multithreading:\r\n",
    "\r\n",
    "Advantages of Multithreading:\r\n",
    "Improved Performance:\r\n",
    "\r\n",
    "One of the primary advantages of multithreading is improved performance. Multithreading allows concurrent execution of tasks, which can lead to better resource utilization, reduced execution time, and increased throughput.\r\n",
    "Parallelism:\r\n",
    "\r\n",
    "Multithreading enables parallelism by allowing multiple threads to execute independently. This is particularly beneficial for CPU-bound tasks where computations can be split across multiple threads to take advantage of multiple processor cores.\r\n",
    "Responsiveness:\r\n",
    "\r\n",
    "Multithreading can enhance the responsiveness of applications, especially in user interfaces. Background tasks can run concurrently with the main application thread, preventing the UI from freezing during time-consuming operations.\r\n",
    "Resource Sharing:\r\n",
    "\r\n",
    "Threads within the same process share the same memory space, which facilitates efficient communication and sharing of data between threads. This can simplify the design and implementation of certain algorithms.\r\n",
    "Modularity:\r\n",
    "\r\n",
    "Multithreading allows for a modular design where different threads can handle different aspects of the program logic. This can lead to cleaner and more maintainable code.\r\n",
    "Disadvantages of Multithreading:\r\n",
    "Complexity:\r\n",
    "\r\n",
    "Multithreaded programming introduces complexity, especially with regard to synchronization and coordination between threads. Issues such as race conditions, deadlocks, and data corruption may arise, making debugging and maintenance more challenging.\r\n",
    "Synchronization Overhead:\r\n",
    "\r\n",
    "When multiple threads access shared resources, synchronization mechanisms, such as locks or semaphores, are required to prevent data corruption. The use of these mechanisms introduces overhead and can impact performance.\r\n",
    "Difficulty in Debugging:\r\n",
    "\r\n",
    "Debugging multithreaded programs can be more difficult than debugging single-threaded programs. Issues such as race conditions may not always manifest consistently, making them challenging to reproduce and diagnose.\r\n",
    "Potential for Deadlocks:\r\n",
    "\r\n",
    "Deadlocks can occur when two or more threads are blocked, each waiting for the other to release a resource. Detecting and resolving deadlocks can be complex.\r\n",
    "Thread Safety Concerns:\r\n",
    "\r\n",
    "Ensuring thread safety in shared data structures requires careful consideration and additional coding effort. Failing to do so can lead to unpredictable behavior and bugs that are hard to identify.\r\n",
    "Limited GIL in CPython:\r\n",
    "\r\n",
    "In the CPython implementation (the default implementation of Python), the Global Interpreter Lock (GIL) restricts the execution of multiple threads in parallel, particularly in CPU-bound tasks. This limitation can impact the scalability of multithreading in certain scenarios.\r\n",
    "In summary, while multithreading can offer performance improvements and concurrency benefits, it also introduces challenges related to complexity, synchronization, and debugging. The decision to use multithreading should be based on the specific requirements of the application and an awareness of the potential trade-offs"
   ]
  },
  {
   "cell_type": "markdown",
   "id": "7fe10cd7-0f59-4fdc-866d-26604f11c4b2",
   "metadata": {},
   "source": [
    "6. Explain deadlocks and race conditions."
   ]
  },
  {
   "cell_type": "markdown",
   "id": "85a2847d-bf58-49e8-96d4-f879c96eb66c",
   "metadata": {},
   "source": [
    "Deadlocks:\r\n",
    "\r\n",
    "A deadlock is a situation in a multithreaded or multiprocess environment where two or more threads or processes are unable to proceed because each is waiting for the other to release a resource. In other words, a deadlock is a state in which a set of processes are blocked because each process is holding a resource and waiting for another resource acquired by some other process.\r\n",
    "\r\n",
    "Key conditions for a deadlock to occur (known as the Coffman conditions):\r\n",
    "\r\n",
    "Mutual Exclusion:\r\n",
    "\r\n",
    "At least one resource must be held in a non-shareable mode, meaning that only one process at a time can use the resource.\r\n",
    "Hold and Wait:\r\n",
    "\r\n",
    "A process must be holding at least one resource and waiting to acquire additional resources.\r\n",
    "No Preemption:\r\n",
    "\r\n",
    "Resources cannot be forcibly taken away from a process; a process must voluntarily release resources it holds.\r\n",
    "Circular Wait:\r\n",
    "\r\n",
    "A circular chain of processes exists, where each process holds at least one resource needed by the next process in the chain.\r\n",
    "When these conditions are met, a deadlock can occur, leading to a situation where the involved threads or processes cannot make progress.\r\n",
    "\r\n",
    "Race Conditions:\r\n",
    "\r\n",
    "A race condition is a situation in which the behavior of a program depends on the relative timing of events, such as the order in which threads are scheduled to run. Race conditions occur when multiple threads or processes access shared data concurrently, and at least one of them modifies the data. The final outcome becomes unpredictable and depends on the interleaving of the execution of threads.\r\n",
    "\r\n",
    "Key factors contributing to race conditions:\r\n",
    "\r\n",
    "Shared Data:\r\n",
    "\r\n",
    "Multiple threads or processes access shared data or resources concurrently.\r\n",
    "At Least One Write Operation:\r\n",
    "\r\n",
    "At least one of the concurrent accesses involves a write operation that modifies the shared data.\r\n",
    "Lack of Synchronization:\r\n",
    "\r\n",
    "Insufficient synchronization mechanisms (e.g., locks, semaphores) to coordinate access to the shared data."
   ]
  },
  {
   "cell_type": "code",
   "execution_count": 16,
   "id": "2efc76ed-318e-408e-b7f0-3c6884f8888c",
   "metadata": {},
   "outputs": [
    {
     "name": "stdout",
     "output_type": "stream",
     "text": [
      "Final Counter Value: 2000000\n"
     ]
    }
   ],
   "source": [
    "import threading\n",
    "\n",
    "counter = 0\n",
    "\n",
    "def increment_counter():\n",
    "    global counter\n",
    "    for _ in range(1000000):\n",
    "        counter += 1\n",
    "\n",
    "# Create two threads that increment the counter concurrently\n",
    "thread1 = threading.Thread(target=increment_counter)\n",
    "thread2 = threading.Thread(target=increment_counter)\n",
    "\n",
    "# Start the threads\n",
    "thread1.start()\n",
    "thread2.start()\n",
    "\n",
    "# Wait for both threads to finish\n",
    "thread1.join()\n",
    "thread2.join()\n",
    "\n",
    "print(\"Final Counter Value:\", counter)\n"
   ]
  },
  {
   "cell_type": "markdown",
   "id": "f6232a02-615e-4787-bf1e-41b1c2e86623",
   "metadata": {},
   "source": [
    "In this example, two threads are incrementing a counter concurrently. Because there is no synchronization mechanism to ensure atomicity of the counter += 1 operation, a race condition occurs, and the final value of the counter is unpredictable.\r\n",
    "\r\n",
    "To address race conditions, proper synchronization mechanisms (e.g., locks, semaphores) should be employed to ensure that critical sections of code are executed atomically, preventing multiple threads from accessing shared resources concurrently."
   ]
  },
  {
   "cell_type": "code",
   "execution_count": null,
   "id": "fca11559-1b43-4209-8bee-e291e56cbb06",
   "metadata": {},
   "outputs": [],
   "source": []
  },
  {
   "cell_type": "code",
   "execution_count": null,
   "id": "e97f425f-bccc-4892-8101-d432df690c7e",
   "metadata": {},
   "outputs": [],
   "source": []
  }
 ],
 "metadata": {
  "kernelspec": {
   "display_name": "Python 3 (ipykernel)",
   "language": "python",
   "name": "python3"
  },
  "language_info": {
   "codemirror_mode": {
    "name": "ipython",
    "version": 3
   },
   "file_extension": ".py",
   "mimetype": "text/x-python",
   "name": "python",
   "nbconvert_exporter": "python",
   "pygments_lexer": "ipython3",
   "version": "3.11.4"
  }
 },
 "nbformat": 4,
 "nbformat_minor": 5
}
